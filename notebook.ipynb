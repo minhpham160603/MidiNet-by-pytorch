{
 "cells": [
  {
   "cell_type": "code",
   "execution_count": null,
   "metadata": {},
   "outputs": [],
   "source": [
    "import torch\n",
    "import torch.nn as nn\n",
    "import numpy as np"
   ]
  },
  {
   "cell_type": "code",
   "execution_count": null,
   "metadata": {},
   "outputs": [],
   "source": [
    "loss = nn.BCEWithLogitsLoss()\n",
    "input = torch.randn(3, requires_grad=True)\n",
    "target = torch.empty(3).random_(2)\n",
    "output = loss(input, target)\n",
    "output.backward()"
   ]
  },
  {
   "cell_type": "code",
   "execution_count": null,
   "metadata": {},
   "outputs": [],
   "source": [
    "import sys\n",
    "sys.path.append(\"../\")\n",
    "from ops import sigmoid_cross_entropy_with_logits, reduce_mean"
   ]
  },
  {
   "cell_type": "code",
   "execution_count": null,
   "metadata": {},
   "outputs": [],
   "source": [
    "D_logits = torch.tensor(np.random.rand(10))\n",
    "onelike = torch.ones_like(D_logits)\n",
    "\n",
    "x = sigmoid_cross_entropy_with_logits(D_logits, onelike)\n",
    "print(x, reduce_mean(x))"
   ]
  },
  {
   "cell_type": "code",
   "execution_count": null,
   "metadata": {},
   "outputs": [],
   "source": [
    "X_prev = np.load(\"../dataset/not_augmented/X_tr.npy\")"
   ]
  },
  {
   "cell_type": "code",
   "execution_count": null,
   "metadata": {},
   "outputs": [],
   "source": [
    "X_prev.shape"
   ]
  },
  {
   "cell_type": "code",
   "execution_count": null,
   "metadata": {},
   "outputs": [],
   "source": [
    "import os\n",
    "\n",
    "os.path.join(\"./abc\", \"/xyz\", \"name\")"
   ]
  },
  {
   "cell_type": "code",
   "execution_count": null,
   "metadata": {},
   "outputs": [],
   "source": [
    "import os\n",
    "import numpy as np\n",
    "from pypianoroll import Multitrack, Track \n",
    "import pypianoroll as pypiano\n",
    "import torch\n",
    "import matplotlib\n",
    "matplotlib.use('Agg')\n",
    "import matplotlib.pyplot as plt\n",
    "import ipdb\n",
    "from main import creat_directory\n",
    "import pypianoroll\n",
    "\n",
    "def find_pitch(song,volume=40):   # song shape(128,128), which is (time step, pitch)\n",
    "    for time in range(song.shape[0]):\n",
    "        step = song[time,:]\n",
    "        max_index = np.argmax(step)\n",
    "        for i in range(len(step)):\n",
    "            if i ==max_index:\n",
    "                song[time,i] = volume\n",
    "            else:\n",
    "                song[time,i] = 0\n",
    "    return song\n",
    "\n",
    "def reshape_bar(song):\n",
    "    eight_bar = song[0]\n",
    "    for i in range(7):\n",
    "        b = song[i+1]\n",
    "        eight_bar  = np.concatenate((eight_bar,b),axis=0)\n",
    "    eight_bar = eight_bar.astype(float)\n",
    "    print(\"A bar's shape: {}\".format(eight_bar.shape))\n",
    "    return eight_bar\n",
    "\n",
    "def make_a_track(eight_bar_binarized,track_name ='melody' ,instrument=0):\n",
    "    track = pypiano.StandardTrack(pianoroll=eight_bar_binarized, program=instrument, is_drum=False,name=track_name)\n",
    "    return track\n",
    "\n",
    "def make_a_demo(track1,track2,song_idx):\n",
    "    sample_name = 'sample_'+str(song_idx)\n",
    "    tempo = np.full(768, 120, dtype=float)\n",
    "    multitrack = Multitrack(tracks=[track1,track2], tempo=tempo,resolution=4)\n",
    "    multitrack.plot()\n",
    "    plt.savefig('./output_demo/'+sample_name+'.png')\n",
    "    return multitrack\n",
    "\n",
    "\n",
    "def chord_list(chord,idx):\n",
    "\n",
    "    one_song_chord = chord[idx]\n",
    "    song_chord = []\n",
    "    for i in range(len(one_song_chord)):\n",
    "        bar_idx = []\n",
    "        one_bar_chord = one_song_chord[i]\n",
    "        bar_idx.append(int(one_bar_chord[0][12]))\n",
    "        max_idx = np.argmax(one_bar_chord[:11])\n",
    "        bar_idx.append(max_idx)\n",
    "        song_chord.append(bar_idx)\n",
    "    return song_chord\n",
    "\n",
    "\n",
    "def build_chord_map():\n",
    "    c_maj  = [60,64,67]\n",
    "    c_min  = [60,63,67]\n",
    "    chord_map = []\n",
    "    chord_list_maj = []\n",
    "    chord_list_min = []\n",
    "    chord_list_maj.append(c_maj)\n",
    "    chord_list_min.append(c_min)\n",
    "    for i in range(11):\n",
    "        chord = [x+1 for x in c_maj] \n",
    "        c_maj = chord\n",
    "        chord_list_maj.append(chord)\n",
    "        chord_min = [x+1 for x in c_min]\n",
    "        chord_list_min.append(chord_min)\n",
    "        c_min = chord_min\n",
    "    chord_map.append(chord_list_maj)\n",
    "    chord_list_min[:] = chord_list_min[9:] + chord_list_min[0:9]\n",
    "    chord_map.append(chord_list_min)\n",
    "    return chord_map\n",
    "\n",
    "def decode_chord(maj_min,which_chord):\n",
    "\n",
    "    chord_map = build_chord_map()\n",
    "    chord = chord_map[maj_min][which_chord]\n",
    "\n",
    "    return chord\n",
    "\n",
    "def get_chord(song_chord):\n",
    "    chord_player = []\n",
    "    for item in song_chord:\n",
    "        maj_min = item[0]\n",
    "        which_chord = item[1]\n",
    "        answer_chord = decode_chord(maj_min,which_chord)\n",
    "        chord_player.append(answer_chord)\n",
    "    return chord_player\n",
    "\n",
    "def make_chord_track(chord,instrument,volume=40):\n",
    "    pianoroll = np.zeros((128, 128))\n",
    "    for i in range(len(chord)):\n",
    "        st = 16*i\n",
    "        ed = st + 16\n",
    "        chord_pitch = chord[i]\n",
    "        pianoroll[st:ed, chord_pitch] = volume\n",
    "    track = pypiano.StandardTrack(pianoroll=pianoroll, program=instrument, is_drum=False,\n",
    "                  name='chord')\n",
    "    return track"
   ]
  },
  {
   "cell_type": "code",
   "execution_count": null,
   "metadata": {},
   "outputs": [],
   "source": [
    "model_ver = int(input(\"Model: \"))\n",
    "attempt = int(input(\"Attempt: \"))\n",
    "init_path = f\"./{model_ver}/{model_ver}.{attempt}\"\n",
    "output_path = init_path + \"/output\"\n",
    "data = np.load(os.path.join(output_path, 'output_songs.npy'))\n",
    "chord = np.load(os.path.join(output_path, 'output_chords.npy'))\n",
    "# instrument = input('which instrument you want to play? from 0 to 128,default=0:')\n",
    "# volume     = input('how loud you want to play? from 1 to 127,default= 40:')\n",
    "instrument = 16\n",
    "volume = 40\n",
    "sample_name = \"test_song\"\n",
    "for i in range(5):\n",
    "    # if i % 100 == 0:\n",
    "    one_song = data[i]\n",
    "    song = []\n",
    "    for item in one_song:\n",
    "        item = item.reshape(16,128)\n",
    "        song.append(item)\n",
    "\n",
    "    eight_bar = reshape_bar(song)\n",
    "    eight_bar_binarized = find_pitch(eight_bar,volume)\n",
    "    track = make_a_track(eight_bar_binarized,instrument)\n",
    "    \n",
    "    save_path = init_path + \"/demo\"\n",
    "    creat_directory(save_path)\n",
    "    song_chord = chord_list(chord,i)\n",
    "    chord_player = get_chord(song_chord)\n",
    "    np.save(os.path.join(save_path, f'chord_{i}.npy'),chord_player)\n",
    "    chord_track = make_chord_track(chord_player,instrument,volume)\n",
    "    multitrack = make_a_demo(track,chord_track,i)\n",
    "    # pypianoroll.write(path=\"test\", multitrack=multitrack)\n",
    "    print(str(sample_name)+'saved')\n",
    "    print(multitrack)"
   ]
  },
  {
   "cell_type": "code",
   "execution_count": null,
   "metadata": {},
   "outputs": [],
   "source": [
    "from midi2audio import FluidSynth\n"
   ]
  },
  {
   "cell_type": "code",
   "execution_count": null,
   "metadata": {},
   "outputs": [],
   "source": [
    "fs = FluidSynth()\n"
   ]
  },
  {
   "cell_type": "code",
   "execution_count": null,
   "metadata": {},
   "outputs": [],
   "source": [
    "fs.midi_to_audio('./3/3.2/demo/test_song_3.mid', './3/3.2/demo/test_3.wav')"
   ]
  },
  {
   "cell_type": "code",
   "execution_count": 18,
   "metadata": {},
   "outputs": [],
   "source": [
    "import subprocess\n",
    "\n",
    "sample_rate = 44100\n",
    "\n",
    "def midi_to_mp3(midi_file, audio_file, sound_font=\"/users/eleves-b/2021/minh.pham/.fluidsynth/Abbey-Steinway-D-v1.9.sf2\"):\n",
    "    # Convert modified MIDI to WAV using FluidSynth\n",
    "    subprocess.call([\"/users/eleves-b/2021/minh.pham/fluidsynth-2.3.2/build/src/fluidsynth\", '-ni', sound_font, midi_file, '-F', audio_file, '-r', str(sample_rate)])\n",
    "\n",
    "    # Convert WAV to MP3 using FFmpeg\n",
    "    # subprocess.call(['ffmpeg', '-i', 'output.wav', '-codec:a', 'libmp3lame', output_file])\n",
    "\n",
    "    # Clean up the intermediate WAV file\n",
    "    # subprocess.call(['rm', 'output.wav'])"
   ]
  },
  {
   "cell_type": "code",
   "execution_count": 19,
   "metadata": {},
   "outputs": [
    {
     "name": "stderr",
     "output_type": "stream",
     "text": [
      "fluidsynth: panic: An error occurred while reading from stdin.\n",
      "fluidsynth: warning: No preset found on channel 9 [bank=128 prog=0]\n",
      "fluidsynth: panic: An error occurred while reading from stdin.\n",
      "fluidsynth: warning: Instrument not found on channel 0 [bank=0 prog=40], substituted [bank=0 prog=0]\n",
      "fluidsynth: warning: Instrument not found on channel 1 [bank=0 prog=40], substituted [bank=0 prog=0]\n"
     ]
    },
    {
     "name": "stdout",
     "output_type": "stream",
     "text": [
      "FluidSynth runtime version 2.3.2\n",
      "Copyright (C) 2000-2023 Peter Hanappe and others.\n",
      "Distributed under the LGPL license.\n",
      "SoundFont(R) is a registered trademark of Creative Technology Ltd.\n",
      "\n",
      "Rendering audio to file './3/3.2/demo/test_3.wav'..\n"
     ]
    }
   ],
   "source": [
    "midi_to_mp3('./3/3.2/demo/test_song_3.mid', './3/3.2/demo/test_3.wav')"
   ]
  },
  {
   "cell_type": "code",
   "execution_count": null,
   "metadata": {},
   "outputs": [],
   "source": []
  }
 ],
 "metadata": {
  "kernelspec": {
   "display_name": "cse204-project",
   "language": "python",
   "name": "python3"
  },
  "language_info": {
   "codemirror_mode": {
    "name": "ipython",
    "version": 3
   },
   "file_extension": ".py",
   "mimetype": "text/x-python",
   "name": "python",
   "nbconvert_exporter": "python",
   "pygments_lexer": "ipython3",
   "version": "3.11.3"
  },
  "orig_nbformat": 4
 },
 "nbformat": 4,
 "nbformat_minor": 2
}
