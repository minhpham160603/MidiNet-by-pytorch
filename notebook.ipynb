{
 "cells": [
  {
   "cell_type": "code",
   "execution_count": 3,
   "metadata": {},
   "outputs": [],
   "source": [
    "import torch\n",
    "import torch.nn as nn\n",
    "import numpy as np"
   ]
  },
  {
   "cell_type": "code",
   "execution_count": 2,
   "metadata": {},
   "outputs": [],
   "source": [
    "loss = nn.BCEWithLogitsLoss()\n",
    "input = torch.randn(3, requires_grad=True)\n",
    "target = torch.empty(3).random_(2)\n",
    "output = loss(input, target)\n",
    "output.backward()"
   ]
  },
  {
   "cell_type": "code",
   "execution_count": 8,
   "metadata": {},
   "outputs": [],
   "source": [
    "import sys\n",
    "sys.path.append(\"../\")\n",
    "from ops import sigmoid_cross_entropy_with_logits, reduce_mean"
   ]
  },
  {
   "cell_type": "code",
   "execution_count": 12,
   "metadata": {},
   "outputs": [
    {
     "name": "stdout",
     "output_type": "stream",
     "text": [
      "tensor(0.5104, dtype=torch.float64) tensor(0.5104, dtype=torch.float64)\n"
     ]
    }
   ],
   "source": [
    "D_logits = torch.tensor(np.random.rand(10))\n",
    "onelike = torch.ones_like(D_logits)\n",
    "\n",
    "x = sigmoid_cross_entropy_with_logits(D_logits, onelike)\n",
    "print(x, reduce_mean(x))"
   ]
  },
  {
   "cell_type": "code",
   "execution_count": 29,
   "metadata": {},
   "outputs": [],
   "source": [
    "X_prev = np.load(\"../dataset/not_augmented/X_tr.npy\")"
   ]
  },
  {
   "cell_type": "code",
   "execution_count": 30,
   "metadata": {},
   "outputs": [
    {
     "data": {
      "text/plain": [
       "(9584, 1, 16, 128)"
      ]
     },
     "execution_count": 30,
     "metadata": {},
     "output_type": "execute_result"
    }
   ],
   "source": [
    "X_prev.shape"
   ]
  },
  {
   "cell_type": "code",
   "execution_count": 1,
   "metadata": {},
   "outputs": [
    {
     "data": {
      "text/plain": [
       "str"
      ]
     },
     "execution_count": 1,
     "metadata": {},
     "output_type": "execute_result"
    }
   ],
   "source": [
    "import os\n",
    "\n",
    "os.path.join(\"./abc\", \"/xyz\", \"name\")"
   ]
  },
  {
   "cell_type": "code",
   "execution_count": 8,
   "metadata": {},
   "outputs": [],
   "source": [
    "import os\n",
    "import numpy as np\n",
    "from pypianoroll import Multitrack, Track \n",
    "import pypianoroll as pypiano\n",
    "import torch\n",
    "import matplotlib\n",
    "matplotlib.use('Agg')\n",
    "import matplotlib.pyplot as plt\n",
    "import ipdb\n",
    "from main import creat_directory\n",
    "import pypianoroll\n",
    "\n",
    "def find_pitch(song,volume=40):   # song shape(128,128), which is (time step, pitch)\n",
    "    for time in range(song.shape[0]):\n",
    "        step = song[time,:]\n",
    "        max_index = np.argmax(step)\n",
    "        for i in range(len(step)):\n",
    "            if i ==max_index:\n",
    "                song[time,i] = volume\n",
    "            else:\n",
    "                song[time,i] = 0\n",
    "    return song\n",
    "\n",
    "def reshape_bar(song):\n",
    "    eight_bar = song[0]\n",
    "    for i in range(7):\n",
    "        b = song[i+1]\n",
    "        eight_bar  = np.concatenate((eight_bar,b),axis=0)\n",
    "    eight_bar = eight_bar.astype(float)\n",
    "    print(\"A bar's shape: {}\".format(eight_bar.shape))\n",
    "    return eight_bar\n",
    "\n",
    "def make_a_track(eight_bar_binarized,track_name ='melody' ,instrument=0):\n",
    "    track = pypiano.StandardTrack(pianoroll=eight_bar_binarized, program=instrument, is_drum=False,name=track_name)\n",
    "    return track\n",
    "\n",
    "def make_a_demo(track1,track2,song_idx):\n",
    "    sample_name = 'sample_'+str(song_idx)\n",
    "    tempo = np.full(768, 120, dtype=float)\n",
    "    multitrack = Multitrack(tracks=[track1,track2], tempo=tempo,resolution=4)\n",
    "    multitrack.plot()\n",
    "    plt.savefig('./output_demo/'+sample_name+'.png')\n",
    "    return multitrack\n",
    "\n",
    "\n",
    "def chord_list(chord,idx):\n",
    "\n",
    "    one_song_chord = chord[idx]\n",
    "    song_chord = []\n",
    "    for i in range(len(one_song_chord)):\n",
    "        bar_idx = []\n",
    "        one_bar_chord = one_song_chord[i]\n",
    "        bar_idx.append(int(one_bar_chord[0][12]))\n",
    "        max_idx = np.argmax(one_bar_chord[:11])\n",
    "        bar_idx.append(max_idx)\n",
    "        song_chord.append(bar_idx)\n",
    "    return song_chord\n",
    "\n",
    "\n",
    "def build_chord_map():\n",
    "    c_maj  = [60,64,67]\n",
    "    c_min  = [60,63,67]\n",
    "    chord_map = []\n",
    "    chord_list_maj = []\n",
    "    chord_list_min = []\n",
    "    chord_list_maj.append(c_maj)\n",
    "    chord_list_min.append(c_min)\n",
    "    for i in range(11):\n",
    "        chord = [x+1 for x in c_maj] \n",
    "        c_maj = chord\n",
    "        chord_list_maj.append(chord)\n",
    "        chord_min = [x+1 for x in c_min]\n",
    "        chord_list_min.append(chord_min)\n",
    "        c_min = chord_min\n",
    "    chord_map.append(chord_list_maj)\n",
    "    chord_list_min[:] = chord_list_min[9:] + chord_list_min[0:9]\n",
    "    chord_map.append(chord_list_min)\n",
    "    return chord_map\n",
    "\n",
    "def decode_chord(maj_min,which_chord):\n",
    "\n",
    "    chord_map = build_chord_map()\n",
    "    chord = chord_map[maj_min][which_chord]\n",
    "\n",
    "    return chord\n",
    "\n",
    "def get_chord(song_chord):\n",
    "    chord_player = []\n",
    "    for item in song_chord:\n",
    "        maj_min = item[0]\n",
    "        which_chord = item[1]\n",
    "        answer_chord = decode_chord(maj_min,which_chord)\n",
    "        chord_player.append(answer_chord)\n",
    "    return chord_player\n",
    "\n",
    "def make_chord_track(chord,instrument,volume=40):\n",
    "    pianoroll = np.zeros((128, 128))\n",
    "    for i in range(len(chord)):\n",
    "        st = 16*i\n",
    "        ed = st + 16\n",
    "        chord_pitch = chord[i]\n",
    "        pianoroll[st:ed, chord_pitch] = volume\n",
    "    track = pypiano.StandardTrack(pianoroll=pianoroll, program=instrument, is_drum=False,\n",
    "                  name='chord')\n",
    "    return track"
   ]
  },
  {
   "cell_type": "code",
   "execution_count": 11,
   "metadata": {},
   "outputs": [
    {
     "name": "stdout",
     "output_type": "stream",
     "text": [
      "A bar's shape: (128, 128)\n",
      "./3/3.2/demo\n",
      "test_songsaved\n",
      "Multitrack(name=None, resolution=4, tempo=array(shape=(768,), dtype=float64), tracks=[StandardTrack(name=16, program=0, is_drum=False, pianoroll=array(shape=(128, 128), dtype=uint8)), StandardTrack(name='chord', program=16, is_drum=False, pianoroll=array(shape=(128, 128), dtype=uint8))])\n",
      "A bar's shape: (128, 128)\n",
      "./3/3.2/demo\n",
      "test_songsaved\n",
      "Multitrack(name=None, resolution=4, tempo=array(shape=(768,), dtype=float64), tracks=[StandardTrack(name=16, program=0, is_drum=False, pianoroll=array(shape=(128, 128), dtype=uint8)), StandardTrack(name='chord', program=16, is_drum=False, pianoroll=array(shape=(128, 128), dtype=uint8))])\n",
      "A bar's shape: (128, 128)\n",
      "./3/3.2/demo\n",
      "test_songsaved\n",
      "Multitrack(name=None, resolution=4, tempo=array(shape=(768,), dtype=float64), tracks=[StandardTrack(name=16, program=0, is_drum=False, pianoroll=array(shape=(128, 128), dtype=uint8)), StandardTrack(name='chord', program=16, is_drum=False, pianoroll=array(shape=(128, 128), dtype=uint8))])\n",
      "A bar's shape: (128, 128)\n",
      "./3/3.2/demo\n",
      "test_songsaved\n",
      "Multitrack(name=None, resolution=4, tempo=array(shape=(768,), dtype=float64), tracks=[StandardTrack(name=16, program=0, is_drum=False, pianoroll=array(shape=(128, 128), dtype=uint8)), StandardTrack(name='chord', program=16, is_drum=False, pianoroll=array(shape=(128, 128), dtype=uint8))])\n",
      "A bar's shape: (128, 128)\n",
      "./3/3.2/demo\n",
      "test_songsaved\n",
      "Multitrack(name=None, resolution=4, tempo=array(shape=(768,), dtype=float64), tracks=[StandardTrack(name=16, program=0, is_drum=False, pianoroll=array(shape=(128, 128), dtype=uint8)), StandardTrack(name='chord', program=16, is_drum=False, pianoroll=array(shape=(128, 128), dtype=uint8))])\n"
     ]
    }
   ],
   "source": [
    "model_ver = int(input(\"Model: \"))\n",
    "attempt = int(input(\"Attempt: \"))\n",
    "init_path = f\"./{model_ver}/{model_ver}.{attempt}\"\n",
    "output_path = init_path + \"/output\"\n",
    "data = np.load(os.path.join(output_path, 'output_songs.npy'))\n",
    "chord = np.load(os.path.join(output_path, 'output_chords.npy'))\n",
    "# instrument = input('which instrument you want to play? from 0 to 128,default=0:')\n",
    "# volume     = input('how loud you want to play? from 1 to 127,default= 40:')\n",
    "instrument = 16\n",
    "volume = 40\n",
    "sample_name = \"test_song\"\n",
    "for i in range(5):\n",
    "    # if i % 100 == 0:\n",
    "    one_song = data[i]\n",
    "    song = []\n",
    "    for item in one_song:\n",
    "        item = item.reshape(16,128)\n",
    "        song.append(item)\n",
    "\n",
    "    eight_bar = reshape_bar(song)\n",
    "    eight_bar_binarized = find_pitch(eight_bar,volume)\n",
    "    track = make_a_track(eight_bar_binarized,instrument)\n",
    "    \n",
    "    save_path = init_path + \"/demo\"\n",
    "    creat_directory(save_path)\n",
    "    song_chord = chord_list(chord,i)\n",
    "    chord_player = get_chord(song_chord)\n",
    "    np.save(os.path.join(save_path, f'chord_{i}.npy'),chord_player)\n",
    "    chord_track = make_chord_track(chord_player,instrument,volume)\n",
    "    multitrack = make_a_demo(track,chord_track,i)\n",
    "    # pypianoroll.write(path=\"test\", multitrack=multitrack)\n",
    "    print(str(sample_name)+'saved')\n",
    "    print(multitrack)"
   ]
  },
  {
   "cell_type": "code",
   "execution_count": 5,
   "metadata": {},
   "outputs": [],
   "source": [
    "from midi2audio import FluidSynth"
   ]
  },
  {
   "cell_type": "code",
   "execution_count": 6,
   "metadata": {},
   "outputs": [],
   "source": [
    "fs = FluidSynth()\n"
   ]
  },
  {
   "cell_type": "code",
   "execution_count": 4,
   "metadata": {},
   "outputs": [],
   "source": [
    "import fluidsynth"
   ]
  },
  {
   "cell_type": "code",
   "execution_count": 7,
   "metadata": {},
   "outputs": [
    {
     "ename": "FileNotFoundError",
     "evalue": "[Errno 2] No such file or directory: 'fluidsynth'",
     "output_type": "error",
     "traceback": [
      "\u001b[0;31m---------------------------------------------------------------------------\u001b[0m",
      "\u001b[0;31mFileNotFoundError\u001b[0m                         Traceback (most recent call last)",
      "Cell \u001b[0;32mIn[7], line 1\u001b[0m\n\u001b[0;32m----> 1\u001b[0m fs\u001b[39m.\u001b[39;49mmidi_to_audio(\u001b[39m'\u001b[39;49m\u001b[39m./3/3.2/demo/test_song_2.mid\u001b[39;49m\u001b[39m'\u001b[39;49m, \u001b[39m'\u001b[39;49m\u001b[39m./3/3.2/demo/test_2.wav\u001b[39;49m\u001b[39m'\u001b[39;49m)\n",
      "File \u001b[0;32m~/miniconda3/envs/cse204-project/lib/python3.11/site-packages/midi2audio.py:46\u001b[0m, in \u001b[0;36mFluidSynth.midi_to_audio\u001b[0;34m(self, midi_file, audio_file)\u001b[0m\n\u001b[1;32m     45\u001b[0m \u001b[39mdef\u001b[39;00m \u001b[39mmidi_to_audio\u001b[39m(\u001b[39mself\u001b[39m, midi_file, audio_file):\n\u001b[0;32m---> 46\u001b[0m     subprocess\u001b[39m.\u001b[39;49mcall([\u001b[39m'\u001b[39;49m\u001b[39mfluidsynth\u001b[39;49m\u001b[39m'\u001b[39;49m, \u001b[39m'\u001b[39;49m\u001b[39m-ni\u001b[39;49m\u001b[39m'\u001b[39;49m, \u001b[39mself\u001b[39;49m\u001b[39m.\u001b[39;49msound_font, midi_file, \u001b[39m'\u001b[39;49m\u001b[39m-F\u001b[39;49m\u001b[39m'\u001b[39;49m, audio_file, \u001b[39m'\u001b[39;49m\u001b[39m-r\u001b[39;49m\u001b[39m'\u001b[39;49m, \u001b[39mstr\u001b[39;49m(\u001b[39mself\u001b[39;49m\u001b[39m.\u001b[39;49msample_rate)])\n",
      "File \u001b[0;32m~/miniconda3/envs/cse204-project/lib/python3.11/subprocess.py:389\u001b[0m, in \u001b[0;36mcall\u001b[0;34m(timeout, *popenargs, **kwargs)\u001b[0m\n\u001b[1;32m    381\u001b[0m \u001b[39mdef\u001b[39;00m \u001b[39mcall\u001b[39m(\u001b[39m*\u001b[39mpopenargs, timeout\u001b[39m=\u001b[39m\u001b[39mNone\u001b[39;00m, \u001b[39m*\u001b[39m\u001b[39m*\u001b[39mkwargs):\n\u001b[1;32m    382\u001b[0m \u001b[39m    \u001b[39m\u001b[39m\"\"\"Run command with arguments.  Wait for command to complete or\u001b[39;00m\n\u001b[1;32m    383\u001b[0m \u001b[39m    timeout, then return the returncode attribute.\u001b[39;00m\n\u001b[1;32m    384\u001b[0m \n\u001b[0;32m   (...)\u001b[0m\n\u001b[1;32m    387\u001b[0m \u001b[39m    retcode = call([\"ls\", \"-l\"])\u001b[39;00m\n\u001b[1;32m    388\u001b[0m \u001b[39m    \"\"\"\u001b[39;00m\n\u001b[0;32m--> 389\u001b[0m     \u001b[39mwith\u001b[39;00m Popen(\u001b[39m*\u001b[39;49mpopenargs, \u001b[39m*\u001b[39;49m\u001b[39m*\u001b[39;49mkwargs) \u001b[39mas\u001b[39;00m p:\n\u001b[1;32m    390\u001b[0m         \u001b[39mtry\u001b[39;00m:\n\u001b[1;32m    391\u001b[0m             \u001b[39mreturn\u001b[39;00m p\u001b[39m.\u001b[39mwait(timeout\u001b[39m=\u001b[39mtimeout)\n",
      "File \u001b[0;32m~/miniconda3/envs/cse204-project/lib/python3.11/subprocess.py:1024\u001b[0m, in \u001b[0;36mPopen.__init__\u001b[0;34m(self, args, bufsize, executable, stdin, stdout, stderr, preexec_fn, close_fds, shell, cwd, env, universal_newlines, startupinfo, creationflags, restore_signals, start_new_session, pass_fds, user, group, extra_groups, encoding, errors, text, umask, pipesize, process_group)\u001b[0m\n\u001b[1;32m   1020\u001b[0m         \u001b[39mif\u001b[39;00m \u001b[39mself\u001b[39m\u001b[39m.\u001b[39mtext_mode:\n\u001b[1;32m   1021\u001b[0m             \u001b[39mself\u001b[39m\u001b[39m.\u001b[39mstderr \u001b[39m=\u001b[39m io\u001b[39m.\u001b[39mTextIOWrapper(\u001b[39mself\u001b[39m\u001b[39m.\u001b[39mstderr,\n\u001b[1;32m   1022\u001b[0m                     encoding\u001b[39m=\u001b[39mencoding, errors\u001b[39m=\u001b[39merrors)\n\u001b[0;32m-> 1024\u001b[0m     \u001b[39mself\u001b[39;49m\u001b[39m.\u001b[39;49m_execute_child(args, executable, preexec_fn, close_fds,\n\u001b[1;32m   1025\u001b[0m                         pass_fds, cwd, env,\n\u001b[1;32m   1026\u001b[0m                         startupinfo, creationflags, shell,\n\u001b[1;32m   1027\u001b[0m                         p2cread, p2cwrite,\n\u001b[1;32m   1028\u001b[0m                         c2pread, c2pwrite,\n\u001b[1;32m   1029\u001b[0m                         errread, errwrite,\n\u001b[1;32m   1030\u001b[0m                         restore_signals,\n\u001b[1;32m   1031\u001b[0m                         gid, gids, uid, umask,\n\u001b[1;32m   1032\u001b[0m                         start_new_session, process_group)\n\u001b[1;32m   1033\u001b[0m \u001b[39mexcept\u001b[39;00m:\n\u001b[1;32m   1034\u001b[0m     \u001b[39m# Cleanup if the child failed starting.\u001b[39;00m\n\u001b[1;32m   1035\u001b[0m     \u001b[39mfor\u001b[39;00m f \u001b[39min\u001b[39;00m \u001b[39mfilter\u001b[39m(\u001b[39mNone\u001b[39;00m, (\u001b[39mself\u001b[39m\u001b[39m.\u001b[39mstdin, \u001b[39mself\u001b[39m\u001b[39m.\u001b[39mstdout, \u001b[39mself\u001b[39m\u001b[39m.\u001b[39mstderr)):\n",
      "File \u001b[0;32m~/miniconda3/envs/cse204-project/lib/python3.11/subprocess.py:1917\u001b[0m, in \u001b[0;36mPopen._execute_child\u001b[0;34m(self, args, executable, preexec_fn, close_fds, pass_fds, cwd, env, startupinfo, creationflags, shell, p2cread, p2cwrite, c2pread, c2pwrite, errread, errwrite, restore_signals, gid, gids, uid, umask, start_new_session, process_group)\u001b[0m\n\u001b[1;32m   1915\u001b[0m     \u001b[39mif\u001b[39;00m errno_num \u001b[39m!=\u001b[39m \u001b[39m0\u001b[39m:\n\u001b[1;32m   1916\u001b[0m         err_msg \u001b[39m=\u001b[39m os\u001b[39m.\u001b[39mstrerror(errno_num)\n\u001b[0;32m-> 1917\u001b[0m     \u001b[39mraise\u001b[39;00m child_exception_type(errno_num, err_msg, err_filename)\n\u001b[1;32m   1918\u001b[0m \u001b[39mraise\u001b[39;00m child_exception_type(err_msg)\n",
      "\u001b[0;31mFileNotFoundError\u001b[0m: [Errno 2] No such file or directory: 'fluidsynth'"
     ]
    }
   ],
   "source": [
    "fs.midi_to_audio('./3/3.2/demo/test_song_2.mid', './3/3.2/demo/test_2.wav')"
   ]
  },
  {
   "cell_type": "code",
   "execution_count": null,
   "metadata": {},
   "outputs": [],
   "source": []
  }
 ],
 "metadata": {
  "kernelspec": {
   "display_name": "cse204-project",
   "language": "python",
   "name": "python3"
  },
  "language_info": {
   "codemirror_mode": {
    "name": "ipython",
    "version": 3
   },
   "file_extension": ".py",
   "mimetype": "text/x-python",
   "name": "python",
   "nbconvert_exporter": "python",
   "pygments_lexer": "ipython3",
   "version": "3.11.3"
  },
  "orig_nbformat": 4
 },
 "nbformat": 4,
 "nbformat_minor": 2
}
